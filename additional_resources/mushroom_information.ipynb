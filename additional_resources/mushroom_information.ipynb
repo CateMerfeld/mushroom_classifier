{
  "nbformat": 4,
  "nbformat_minor": 0,
  "metadata": {
    "colab": {
      "name": "mushroom_information.ipynb",
      "provenance": []
    },
    "kernelspec": {
      "name": "python3",
      "display_name": "Python 3"
    }
  },
  "cells": [
    {
      "cell_type": "code",
      "metadata": {
        "colab": {
          "base_uri": "https://localhost:8080/"
        },
        "id": "o551mT8uYBp2",
        "outputId": "0ab27c59-dde8-4eb0-c5fa-224e4cea35e2"
      },
      "source": [
        "!pip install feedparser\r\n",
        "!pip install wordcloud\r\n",
        "import feedparser\r\n",
        "from wordcloud import WordCloud\r\n",
        "import matplotlib.pyplot as plt"
      ],
      "execution_count": null,
      "outputs": [
        {
          "output_type": "stream",
          "text": [
            "Requirement already satisfied: feedparser in /usr/local/lib/python3.6/dist-packages (6.0.2)\n",
            "Requirement already satisfied: sgmllib3k in /usr/local/lib/python3.6/dist-packages (from feedparser) (1.0.0)\n",
            "Requirement already satisfied: wordcloud in /usr/local/lib/python3.6/dist-packages (1.5.0)\n",
            "Requirement already satisfied: numpy>=1.6.1 in /usr/local/lib/python3.6/dist-packages (from wordcloud) (1.19.5)\n",
            "Requirement already satisfied: pillow in /usr/local/lib/python3.6/dist-packages (from wordcloud) (7.0.0)\n"
          ],
          "name": "stdout"
        }
      ]
    },
    {
      "cell_type": "code",
      "metadata": {
        "id": "UKBBDVyoYGcl"
      },
      "source": [
        "from nltk.corpus.reader.plaintext import PlaintextCorpusReader\r\n",
        "import spacy\r\n",
        "import re\r\n",
        "from bs4 import BeautifulSoup\r\n",
        "import pandas as pd\r\n",
        "import numpy as np\r\n",
        "import requests\r\n",
        "from sklearn.feature_extraction.text import TfidfVectorizer\r\n",
        "from sklearn.linear_model import LogisticRegression\r\n",
        "from sklearn.ensemble import RandomForestClassifier, GradientBoostingClassifier\r\n",
        "from sklearn.model_selection import train_test_split\r\n",
        "from sklearn.feature_extraction.text import CountVectorizer"
      ],
      "execution_count": null,
      "outputs": []
    },
    {
      "cell_type": "markdown",
      "metadata": {
        "id": "13TCdJlomxII"
      },
      "source": [
        "# Read in documents:\r\n",
        "---"
      ]
    },
    {
      "cell_type": "code",
      "metadata": {
        "id": "_dsLz1LLYc2y"
      },
      "source": [
        "# load edible mushroom text files from drive\r\n",
        "DOC_PATTERN = r'.*\\.txt'\r\n",
        "PATH = '/content/drive/MyDrive/Data_Science_Course/Capstones/Capstone_4/mushroom_info/ed_info/'\r\n",
        "corpus = PlaintextCorpusReader(PATH, DOC_PATTERN)\r\n",
        "edible = [corpus.raw(fileid) for fileid in corpus.fileids()]"
      ],
      "execution_count": null,
      "outputs": []
    },
    {
      "cell_type": "code",
      "metadata": {
        "id": "T66NYSiyYMKH"
      },
      "source": [
        "# load inedible mushroom text files from drive\r\n",
        "DOC_PATTERN = r'.*\\.txt'\r\n",
        "PATH = '/content/drive/MyDrive/Data_Science_Course/Capstones/Capstone_4/mushroom_info/ined_info/'\r\n",
        "corpus = PlaintextCorpusReader(PATH, DOC_PATTERN)\r\n",
        "inedible = [corpus.raw(fileid) for fileid in corpus.fileids()]"
      ],
      "execution_count": null,
      "outputs": []
    },
    {
      "cell_type": "code",
      "metadata": {
        "colab": {
          "base_uri": "https://localhost:8080/"
        },
        "id": "s6h0zeo-mevp",
        "outputId": "7b982355-5606-4bcf-a8f4-ef1f27a59273"
      },
      "source": [
        "len(inedible)"
      ],
      "execution_count": null,
      "outputs": [
        {
          "output_type": "execute_result",
          "data": {
            "text/plain": [
              "26"
            ]
          },
          "metadata": {
            "tags": []
          },
          "execution_count": 4
        }
      ]
    },
    {
      "cell_type": "markdown",
      "metadata": {
        "id": "uHRiwW0jmv0E"
      },
      "source": [
        "# Preprocess corpus:\r\n",
        "---"
      ]
    },
    {
      "cell_type": "markdown",
      "metadata": {
        "id": "4hDdPXbMnNED"
      },
      "source": [
        "Since I'm creating a binary classifier, each document in my corpus will be labeled `Edible` or `Poisonous`. "
      ]
    },
    {
      "cell_type": "code",
      "metadata": {
        "colab": {
          "base_uri": "https://localhost:8080/",
          "height": 154
        },
        "id": "IqXt2VV4vf1s",
        "outputId": "e315b147-91af-42ff-ea6b-6654ecff02f3"
      },
      "source": [
        "# remove unwanted characters\r\n",
        "edible = [desc.replace('\\r', '').replace('\\n', '') for desc in edible]\r\n",
        "# remove description of poisonous lookalikes, so those descriptions don't\r\n",
        "# get mixed in. Make all words lower case\r\n",
        "edible = [desc.split(' Similar')[0].lower() for desc in edible]\r\n",
        "edible[0]"
      ],
      "execution_count": null,
      "outputs": [
        {
          "output_type": "execute_result",
          "data": {
            "application/vnd.google.colaboratory.intrinsic+json": {
              "type": "string"
            },
            "text/plain": [
              "\"agaricus arvensis, commonly known as the horse mushroom, is a sometimes massive agaric that has a white cap, ringed stem, and pink or chocolate colored gills.cap white or cream colored, may have fine scales, first hemispherical in shape before flattening out with maturity. flesh is white, firm and thick. gills are at first white, becoming pink, then chocolate brown or blackish, free and crowded. stem is white or cream; it is slightly club-shaped and smooth or finely scaly below the ring. ring is white or cream, pendulous and superior. viewed from below, on a closed-cap specimen, it has a well-developed 'cogwheel' pattern around the stem.\""
            ]
          },
          "metadata": {
            "tags": []
          },
          "execution_count": 14
        }
      ]
    },
    {
      "cell_type": "code",
      "metadata": {
        "colab": {
          "base_uri": "https://localhost:8080/",
          "height": 222
        },
        "id": "B2yx2w238rEq",
        "outputId": "c3082b0c-d3f6-49ac-bb17-2d28b932d60a"
      },
      "source": [
        "# remove unwanted characters\r\n",
        "inedible = [desc.replace('\\r', '').replace('\\n', '') for desc in inedible]\r\n",
        "# remove description of poisonous lookalikes, so those descriptions don't\r\n",
        "# get mixed in. Make all words lower case\r\n",
        "inedible = [desc.split(' Similar')[0].lower() for desc in inedible]\r\n",
        "inedible[0]"
      ],
      "execution_count": null,
      "outputs": [
        {
          "output_type": "execute_result",
          "data": {
            "application/vnd.google.colaboratory.intrinsic+json": {
              "type": "string"
            },
            "text/plain": [
              "'amanita muscaria, commonly known as the fly agaric or fly amanita, is a medium to large, fleshy agaric, with red cap, white patches, white gills, ring and a bulbous base. it grows on poor and sandy soils and the fruiting bodies emerge from the soil looking like white eggs.cap first round to hemispherical, and finally to plate-like and flat in mature specimens, often with a low, shallow depression on disk when fully expanded. surface shiny; deep scarlet, fading to orange-red or orange-yellow in older specimens. gills white, free or barely touching the stem, crowded. stem white, robust and has the slightly brittle, fibrous texture. at the base is a bulb that bears universal veil remnants in the form of two to four distinct rings or ruffs. between the basal universal veil remnants and gills are remnants of the partial veil (which covers the gills during development) in the form of a white ring. it can be quite wide and flaccid with age. amanita muscaria on the first nature web site.amanita muscaria var. flavivolvata on the mushroomexpert.com web site.'"
            ]
          },
          "metadata": {
            "tags": []
          },
          "execution_count": 15
        }
      ]
    },
    {
      "cell_type": "code",
      "metadata": {
        "id": "jM1zCJj-dZf0"
      },
      "source": [
        "# load the spacy english module\r\n",
        "nlp = spacy.load('en')\r\n",
        "\r\n",
        "# tokenize each description \r\n",
        "ed_docs = nlp(str(edible))\r\n",
        "ined_docs = nlp(str(inedible))"
      ],
      "execution_count": null,
      "outputs": []
    },
    {
      "cell_type": "code",
      "metadata": {
        "colab": {
          "base_uri": "https://localhost:8080/"
        },
        "id": "qONG_j-nIYvz",
        "outputId": "0c3625e5-cb91-4f01-d816-270ede333705"
      },
      "source": [
        "# remove stop words and punctuation\r\n",
        "ed_words = [word for word in list(ed_docs) if not word.is_stop and not word.is_punct]\r\n",
        "ed_text = [token.text for token in ed_words]"
      ],
      "execution_count": null,
      "outputs": [
        {
          "output_type": "execute_result",
          "data": {
            "text/plain": [
              "4825"
            ]
          },
          "metadata": {
            "tags": []
          },
          "execution_count": 34
        }
      ]
    },
    {
      "cell_type": "code",
      "metadata": {
        "colab": {
          "base_uri": "https://localhost:8080/",
          "height": 198
        },
        "id": "NqA9ZdxANOlC",
        "outputId": "a856ded3-3ef4-4352-c232-a701e1f6e05b"
      },
      "source": [
        "# generate wordcloud image\r\n",
        "wordcloud = WordCloud().generate(str(ed_text))\r\n",
        "plt.imshow(wordcloud, interpolation='bilinear')\r\n",
        "plt.axis('off')\r\n",
        "plt.show()"
      ],
      "execution_count": null,
      "outputs": [
        {
          "output_type": "display_data",
          "data": {
            "image/png": "[encoded data removed]",
            "text/plain": [
              "<Figure size 432x288 with 1 Axes>"
            ]
          },
          "metadata": {
            "tags": [],
            "needs_background": "light"
          }
        }
      ]
    },
    {
      "cell_type": "code",
      "metadata": {
        "id": "yn19cHkbN_FG"
      },
      "source": [
        "# remove stop words and punctuation\r\n",
        "ined_words = [word for word in list(ined_docs) if not word.is_stop and not word.is_punct]\r\n",
        "ined_text = [token.text for token in ined_words]"
      ],
      "execution_count": null,
      "outputs": []
    },
    {
      "cell_type": "code",
      "metadata": {
        "colab": {
          "base_uri": "https://localhost:8080/",
          "height": 198
        },
        "id": "BhbeHclPOEYt",
        "outputId": "8b6b68f5-4338-480f-fcad-1cf0a15bd1a6"
      },
      "source": [
        "# generate wordcloud image\r\n",
        "wordcloud = WordCloud().generate(str(ined_text))\r\n",
        "plt.imshow(wordcloud, interpolation='bilinear')\r\n",
        "plt.axis('off')\r\n",
        "plt.show()"
      ],
      "execution_count": null,
      "outputs": [
        {
          "output_type": "display_data",
          "data": {
            "image/png": "[encoded data removed]",
            "text/plain": [
              "<Figure size 432x288 with 1 Axes>"
            ]
          },
          "metadata": {
            "tags": [],
            "needs_background": "light"
          }
        }
      ]
    },
    {
      "cell_type": "code",
      "metadata": {
        "id": "Sxp3ir9dKS56"
      },
      "source": [
        "# add labels to each description\r\n",
        "ed_labeled = [[desc, 'edible'] for desc in ed_docs]\r\n",
        "ined_labeled = [[desc, 'inedible'] for desc in ined_docs]"
      ],
      "execution_count": null,
      "outputs": []
    },
    {
      "cell_type": "code",
      "metadata": {
        "id": "k4W3c2RMw2uf"
      },
      "source": [
        "# combine into one dataframe\r\n",
        "descriptions = pd.DataFrame(ed_labeled + ined_labeled, columns= ['description', 'group'])\r\n",
        "\r\n",
        "descriptions.head()"
      ],
      "execution_count": null,
      "outputs": []
    },
    {
      "cell_type": "code",
      "metadata": {
        "colab": {
          "base_uri": "https://localhost:8080/"
        },
        "id": "DSTL8nVdALl1",
        "outputId": "b187c888-0ae7-446a-f838-7a121b3a3051"
      },
      "source": [
        "descriptions.info()"
      ],
      "execution_count": null,
      "outputs": [
        {
          "output_type": "stream",
          "text": [
            "<class 'pandas.core.frame.DataFrame'>\n",
            "RangeIndex: 168 entries, 0 to 167\n",
            "Data columns (total 2 columns):\n",
            " #   Column       Non-Null Count  Dtype \n",
            "---  ------       --------------  ----- \n",
            " 0   description  168 non-null    object\n",
            " 1   group        168 non-null    object\n",
            "dtypes: object(2)\n",
            "memory usage: 2.8+ KB\n"
          ],
          "name": "stdout"
        }
      ]
    },
    {
      "cell_type": "code",
      "metadata": {
        "id": "jrPsayPTHVja"
      },
      "source": [
        "# lemmatize and remove stop words and punctuation\r\n",
        "for i, abs in enumerate(descriptions['description']):\r\n",
        "  descriptions.loc[i, 'description'] = ' '.join(\r\n",
        "      [str(token) for token in abs if not token.is_punct and not token.is_stop]\r\n",
        "  )"
      ],
      "execution_count": null,
      "outputs": []
    },
    {
      "cell_type": "code",
      "metadata": {
        "id": "XNz5vdGD-1Vd"
      },
      "source": [
        "# # remove stop words and punctuation\r\n",
        "# descriptions['description'] = [[token for token in desc if not token.is_punct\r\n",
        "#                                 and not token.is_stop] for desc in descriptions['description']]"
      ],
      "execution_count": null,
      "outputs": []
    },
    {
      "cell_type": "code",
      "metadata": {
        "colab": {
          "base_uri": "https://localhost:8080/",
          "height": 204
        },
        "id": "O0_Id8_xAdYt",
        "outputId": "833576b1-c119-495a-b39f-c9d2f0776b0d"
      },
      "source": [
        "# descriptions.head()"
      ],
      "execution_count": null,
      "outputs": [
        {
          "output_type": "execute_result",
          "data": {
            "text/html": [
              "<div>\n",
              "<style scoped>\n",
              "    .dataframe tbody tr th:only-of-type {\n",
              "        vertical-align: middle;\n",
              "    }\n",
              "\n",
              "    .dataframe tbody tr th {\n",
              "        vertical-align: top;\n",
              "    }\n",
              "\n",
              "    .dataframe thead th {\n",
              "        text-align: right;\n",
              "    }\n",
              "</style>\n",
              "<table border=\"1\" class=\"dataframe\">\n",
              "  <thead>\n",
              "    <tr style=\"text-align: right;\">\n",
              "      <th></th>\n",
              "      <th>description</th>\n",
              "      <th>group</th>\n",
              "    </tr>\n",
              "  </thead>\n",
              "  <tbody>\n",
              "    <tr>\n",
              "      <th>0</th>\n",
              "      <td>[pale, orange, polypore, looks, like, agaric, ...</td>\n",
              "      <td>edible</td>\n",
              "    </tr>\n",
              "    <tr>\n",
              "      <th>1</th>\n",
              "      <td>[amanita, ceciliae, known, snakeskin, grisette...</td>\n",
              "      <td>edible</td>\n",
              "    </tr>\n",
              "    <tr>\n",
              "      <th>2</th>\n",
              "      <td>[amanita, fulva, known, tawny, grisette, mediu...</td>\n",
              "      <td>edible</td>\n",
              "    </tr>\n",
              "    <tr>\n",
              "      <th>3</th>\n",
              "      <td>[amanita, muscaria, commonly, known, fly, agar...</td>\n",
              "      <td>edible</td>\n",
              "    </tr>\n",
              "    <tr>\n",
              "      <th>4</th>\n",
              "      <td>[amanita, pantherina, known, panther, cap, pan...</td>\n",
              "      <td>edible</td>\n",
              "    </tr>\n",
              "  </tbody>\n",
              "</table>\n",
              "</div>"
            ],
            "text/plain": [
              "                                         description   group\n",
              "0  [pale, orange, polypore, looks, like, agaric, ...  edible\n",
              "1  [amanita, ceciliae, known, snakeskin, grisette...  edible\n",
              "2  [amanita, fulva, known, tawny, grisette, mediu...  edible\n",
              "3  [amanita, muscaria, commonly, known, fly, agar...  edible\n",
              "4  [amanita, pantherina, known, panther, cap, pan...  edible"
            ]
          },
          "metadata": {
            "tags": []
          },
          "execution_count": 126
        }
      ]
    },
    {
      "cell_type": "code",
      "metadata": {
        "colab": {
          "base_uri": "https://localhost:8080/"
        },
        "id": "kN0c7NpIEMra",
        "outputId": "7f3691e8-30bd-44e8-9d9c-7ad34f1aff7b"
      },
      "source": [
        "# see how many words are in the corpus. this will play a role in \r\n",
        "# deciding which vectorizer to use\r\n",
        "count = 0\r\n",
        "for desc in descriptions['description']:\r\n",
        "  for token in desc:\r\n",
        "    count += 1\r\n",
        "count"
      ],
      "execution_count": null,
      "outputs": [
        {
          "output_type": "execute_result",
          "data": {
            "text/plain": [
              "83975"
            ]
          },
          "metadata": {
            "tags": []
          },
          "execution_count": 175
        }
      ]
    },
    {
      "cell_type": "markdown",
      "metadata": {
        "id": "6Zn8T9koEsqc"
      },
      "source": [
        "Since the corpus only has about 8,400 words, it is unlikely that word2vec will be a good choice. I'll try TF-IDF and look at the results. "
      ]
    },
    {
      "cell_type": "code",
      "metadata": {
        "id": "HCUVRj8uPGHt"
      },
      "source": [
        "descriptions"
      ],
      "execution_count": null,
      "outputs": []
    },
    {
      "cell_type": "code",
      "metadata": {
        "id": "NEiqn76dCDnO"
      },
      "source": [
        "# define features and target variable \r\n",
        "X = descriptions['description']\r\n",
        "y = np.where((descriptions['group'] == 'inedible'), 1, 0)\r\n",
        "\r\n",
        "# split into training and testing data\r\n",
        "X_train, X_test, y_train, y_test = train_test_split(X, y, test_size=.2)"
      ],
      "execution_count": null,
      "outputs": []
    },
    {
      "cell_type": "code",
      "metadata": {
        "colab": {
          "base_uri": "https://localhost:8080/",
          "height": 253
        },
        "id": "atrcDEDYApgO",
        "outputId": "27143ff4-f739-4c26-9602-4b6366bdc4bb"
      },
      "source": [
        "vectorizer = TfidfVectorizer(\r\n",
        "    use_idf=True, max_df=.5, min_df=2, smooth_idf=True\r\n",
        ")\r\n",
        "\r\n",
        "train = vectorizer.fit_transform(X_train)\r\n",
        "test = vectorizer.transform(X_test)\r\n",
        "\r\n",
        "train_df = pd.DataFrame(train.toarray(), columns=vectorizer.get_feature_names())\r\n",
        "test_df = pd.DataFrame(test.toarray(), columns=vectorizer.get_feature_names())\r\n",
        "train_df.head()"
      ],
      "execution_count": null,
      "outputs": [
        {
          "output_type": "execute_result",
          "data": {
            "text/html": [
              "<div>\n",
              "<style scoped>\n",
              "    .dataframe tbody tr th:only-of-type {\n",
              "        vertical-align: middle;\n",
              "    }\n",
              "\n",
              "    .dataframe tbody tr th {\n",
              "        vertical-align: top;\n",
              "    }\n",
              "\n",
              "    .dataframe thead th {\n",
              "        text-align: right;\n",
              "    }\n",
              "</style>\n",
              "<table border=\"1\" class=\"dataframe\">\n",
              "  <thead>\n",
              "    <tr style=\"text-align: right;\">\n",
              "      <th></th>\n",
              "      <th>10</th>\n",
              "      <th>absent</th>\n",
              "      <th>acid</th>\n",
              "      <th>acidic</th>\n",
              "      <th>adnate</th>\n",
              "      <th>adnexe</th>\n",
              "      <th>agaricus</th>\n",
              "      <th>age</th>\n",
              "      <th>alboviolaceu</th>\n",
              "      <th>alder</th>\n",
              "      <th>amanita</th>\n",
              "      <th>america</th>\n",
              "      <th>angular</th>\n",
              "      <th>apex</th>\n",
              "      <th>appear</th>\n",
              "      <th>appearance</th>\n",
              "      <th>area</th>\n",
              "      <th>arise</th>\n",
              "      <th>armillaria</th>\n",
              "      <th>arrange</th>\n",
              "      <th>associate</th>\n",
              "      <th>attach</th>\n",
              "      <th>attachment</th>\n",
              "      <th>autumn</th>\n",
              "      <th>away</th>\n",
              "      <th>background</th>\n",
              "      <th>bag</th>\n",
              "      <th>bald</th>\n",
              "      <th>ball</th>\n",
              "      <th>band</th>\n",
              "      <th>basal</th>\n",
              "      <th>base</th>\n",
              "      <th>bay</th>\n",
              "      <th>bear</th>\n",
              "      <th>beech</th>\n",
              "      <th>beige</th>\n",
              "      <th>bell</th>\n",
              "      <th>beneath</th>\n",
              "      <th>birch</th>\n",
              "      <th>bitter</th>\n",
              "      <th>...</th>\n",
              "      <th>upwards</th>\n",
              "      <th>usually</th>\n",
              "      <th>variable</th>\n",
              "      <th>vary</th>\n",
              "      <th>vase</th>\n",
              "      <th>veil</th>\n",
              "      <th>vein</th>\n",
              "      <th>velar</th>\n",
              "      <th>velvet</th>\n",
              "      <th>velvety</th>\n",
              "      <th>versipelle</th>\n",
              "      <th>vinaceous</th>\n",
              "      <th>violet</th>\n",
              "      <th>viscid</th>\n",
              "      <th>vivid</th>\n",
              "      <th>vividly</th>\n",
              "      <th>volva</th>\n",
              "      <th>volval</th>\n",
              "      <th>walnut</th>\n",
              "      <th>wart</th>\n",
              "      <th>warty</th>\n",
              "      <th>wavy</th>\n",
              "      <th>weather</th>\n",
              "      <th>webcap</th>\n",
              "      <th>wet</th>\n",
              "      <th>whitish</th>\n",
              "      <th>wide</th>\n",
              "      <th>wikipedia</th>\n",
              "      <th>wine</th>\n",
              "      <th>wood</th>\n",
              "      <th>woodland</th>\n",
              "      <th>woods</th>\n",
              "      <th>woolly</th>\n",
              "      <th>work</th>\n",
              "      <th>wrinkle</th>\n",
              "      <th>wrinkled</th>\n",
              "      <th>www</th>\n",
              "      <th>yellowish</th>\n",
              "      <th>young</th>\n",
              "      <th>zone</th>\n",
              "    </tr>\n",
              "  </thead>\n",
              "  <tbody>\n",
              "    <tr>\n",
              "      <th>0</th>\n",
              "      <td>0.0</td>\n",
              "      <td>0.0</td>\n",
              "      <td>0.0</td>\n",
              "      <td>0.000000</td>\n",
              "      <td>0.00000</td>\n",
              "      <td>0.0</td>\n",
              "      <td>0.0</td>\n",
              "      <td>0.0</td>\n",
              "      <td>0.000000</td>\n",
              "      <td>0.0</td>\n",
              "      <td>0.000000</td>\n",
              "      <td>0.114935</td>\n",
              "      <td>0.0</td>\n",
              "      <td>0.000000</td>\n",
              "      <td>0.0</td>\n",
              "      <td>0.000000</td>\n",
              "      <td>0.0</td>\n",
              "      <td>0.0</td>\n",
              "      <td>0.0</td>\n",
              "      <td>0.0</td>\n",
              "      <td>0.000000</td>\n",
              "      <td>0.000000</td>\n",
              "      <td>0.0</td>\n",
              "      <td>0.000000</td>\n",
              "      <td>0.126874</td>\n",
              "      <td>0.0</td>\n",
              "      <td>0.000000</td>\n",
              "      <td>0.0</td>\n",
              "      <td>0.0</td>\n",
              "      <td>0.000000</td>\n",
              "      <td>0.0</td>\n",
              "      <td>0.061061</td>\n",
              "      <td>0.0</td>\n",
              "      <td>0.0</td>\n",
              "      <td>0.0</td>\n",
              "      <td>0.0</td>\n",
              "      <td>0.0</td>\n",
              "      <td>0.0</td>\n",
              "      <td>0.0</td>\n",
              "      <td>0.000000</td>\n",
              "      <td>...</td>\n",
              "      <td>0.0</td>\n",
              "      <td>0.000000</td>\n",
              "      <td>0.0</td>\n",
              "      <td>0.000000</td>\n",
              "      <td>0.0</td>\n",
              "      <td>0.000000</td>\n",
              "      <td>0.0</td>\n",
              "      <td>0.0</td>\n",
              "      <td>0.0</td>\n",
              "      <td>0.0</td>\n",
              "      <td>0.0</td>\n",
              "      <td>0.0</td>\n",
              "      <td>0.000000</td>\n",
              "      <td>0.0</td>\n",
              "      <td>0.000000</td>\n",
              "      <td>0.0</td>\n",
              "      <td>0.000000</td>\n",
              "      <td>0.000000</td>\n",
              "      <td>0.0</td>\n",
              "      <td>0.310472</td>\n",
              "      <td>0.0</td>\n",
              "      <td>0.0</td>\n",
              "      <td>0.000000</td>\n",
              "      <td>0.000000</td>\n",
              "      <td>0.0</td>\n",
              "      <td>0.000000</td>\n",
              "      <td>0.0</td>\n",
              "      <td>0.000000</td>\n",
              "      <td>0.0</td>\n",
              "      <td>0.0</td>\n",
              "      <td>0.126874</td>\n",
              "      <td>0.0</td>\n",
              "      <td>0.0</td>\n",
              "      <td>0.0</td>\n",
              "      <td>0.132034</td>\n",
              "      <td>0.0</td>\n",
              "      <td>0.070248</td>\n",
              "      <td>0.000000</td>\n",
              "      <td>0.082951</td>\n",
              "      <td>0.000000</td>\n",
              "    </tr>\n",
              "    <tr>\n",
              "      <th>1</th>\n",
              "      <td>0.0</td>\n",
              "      <td>0.0</td>\n",
              "      <td>0.0</td>\n",
              "      <td>0.000000</td>\n",
              "      <td>0.00000</td>\n",
              "      <td>0.0</td>\n",
              "      <td>0.0</td>\n",
              "      <td>0.0</td>\n",
              "      <td>0.000000</td>\n",
              "      <td>0.0</td>\n",
              "      <td>0.318702</td>\n",
              "      <td>0.000000</td>\n",
              "      <td>0.0</td>\n",
              "      <td>0.000000</td>\n",
              "      <td>0.0</td>\n",
              "      <td>0.000000</td>\n",
              "      <td>0.0</td>\n",
              "      <td>0.0</td>\n",
              "      <td>0.0</td>\n",
              "      <td>0.0</td>\n",
              "      <td>0.000000</td>\n",
              "      <td>0.000000</td>\n",
              "      <td>0.0</td>\n",
              "      <td>0.118553</td>\n",
              "      <td>0.126971</td>\n",
              "      <td>0.0</td>\n",
              "      <td>0.291436</td>\n",
              "      <td>0.0</td>\n",
              "      <td>0.0</td>\n",
              "      <td>0.122498</td>\n",
              "      <td>0.0</td>\n",
              "      <td>0.000000</td>\n",
              "      <td>0.0</td>\n",
              "      <td>0.0</td>\n",
              "      <td>0.0</td>\n",
              "      <td>0.0</td>\n",
              "      <td>0.0</td>\n",
              "      <td>0.0</td>\n",
              "      <td>0.0</td>\n",
              "      <td>0.000000</td>\n",
              "      <td>...</td>\n",
              "      <td>0.0</td>\n",
              "      <td>0.000000</td>\n",
              "      <td>0.0</td>\n",
              "      <td>0.000000</td>\n",
              "      <td>0.0</td>\n",
              "      <td>0.091803</td>\n",
              "      <td>0.0</td>\n",
              "      <td>0.0</td>\n",
              "      <td>0.0</td>\n",
              "      <td>0.0</td>\n",
              "      <td>0.0</td>\n",
              "      <td>0.0</td>\n",
              "      <td>0.000000</td>\n",
              "      <td>0.0</td>\n",
              "      <td>0.000000</td>\n",
              "      <td>0.0</td>\n",
              "      <td>0.138243</td>\n",
              "      <td>0.276486</td>\n",
              "      <td>0.0</td>\n",
              "      <td>0.000000</td>\n",
              "      <td>0.0</td>\n",
              "      <td>0.0</td>\n",
              "      <td>0.000000</td>\n",
              "      <td>0.000000</td>\n",
              "      <td>0.0</td>\n",
              "      <td>0.000000</td>\n",
              "      <td>0.0</td>\n",
              "      <td>0.000000</td>\n",
              "      <td>0.0</td>\n",
              "      <td>0.0</td>\n",
              "      <td>0.000000</td>\n",
              "      <td>0.0</td>\n",
              "      <td>0.0</td>\n",
              "      <td>0.0</td>\n",
              "      <td>0.000000</td>\n",
              "      <td>0.0</td>\n",
              "      <td>0.000000</td>\n",
              "      <td>0.000000</td>\n",
              "      <td>0.000000</td>\n",
              "      <td>0.000000</td>\n",
              "    </tr>\n",
              "    <tr>\n",
              "      <th>2</th>\n",
              "      <td>0.0</td>\n",
              "      <td>0.0</td>\n",
              "      <td>0.0</td>\n",
              "      <td>0.000000</td>\n",
              "      <td>0.00000</td>\n",
              "      <td>0.0</td>\n",
              "      <td>0.0</td>\n",
              "      <td>0.0</td>\n",
              "      <td>0.000000</td>\n",
              "      <td>0.0</td>\n",
              "      <td>0.000000</td>\n",
              "      <td>0.000000</td>\n",
              "      <td>0.0</td>\n",
              "      <td>0.110539</td>\n",
              "      <td>0.0</td>\n",
              "      <td>0.000000</td>\n",
              "      <td>0.0</td>\n",
              "      <td>0.0</td>\n",
              "      <td>0.0</td>\n",
              "      <td>0.0</td>\n",
              "      <td>0.000000</td>\n",
              "      <td>0.087745</td>\n",
              "      <td>0.0</td>\n",
              "      <td>0.000000</td>\n",
              "      <td>0.000000</td>\n",
              "      <td>0.0</td>\n",
              "      <td>0.000000</td>\n",
              "      <td>0.0</td>\n",
              "      <td>0.0</td>\n",
              "      <td>0.000000</td>\n",
              "      <td>0.0</td>\n",
              "      <td>0.000000</td>\n",
              "      <td>0.0</td>\n",
              "      <td>0.0</td>\n",
              "      <td>0.0</td>\n",
              "      <td>0.0</td>\n",
              "      <td>0.0</td>\n",
              "      <td>0.0</td>\n",
              "      <td>0.0</td>\n",
              "      <td>0.000000</td>\n",
              "      <td>...</td>\n",
              "      <td>0.0</td>\n",
              "      <td>0.000000</td>\n",
              "      <td>0.0</td>\n",
              "      <td>0.000000</td>\n",
              "      <td>0.0</td>\n",
              "      <td>0.000000</td>\n",
              "      <td>0.0</td>\n",
              "      <td>0.0</td>\n",
              "      <td>0.0</td>\n",
              "      <td>0.0</td>\n",
              "      <td>0.0</td>\n",
              "      <td>0.0</td>\n",
              "      <td>0.000000</td>\n",
              "      <td>0.0</td>\n",
              "      <td>0.000000</td>\n",
              "      <td>0.0</td>\n",
              "      <td>0.000000</td>\n",
              "      <td>0.000000</td>\n",
              "      <td>0.0</td>\n",
              "      <td>0.000000</td>\n",
              "      <td>0.0</td>\n",
              "      <td>0.0</td>\n",
              "      <td>0.000000</td>\n",
              "      <td>0.000000</td>\n",
              "      <td>0.0</td>\n",
              "      <td>0.073151</td>\n",
              "      <td>0.0</td>\n",
              "      <td>0.000000</td>\n",
              "      <td>0.0</td>\n",
              "      <td>0.0</td>\n",
              "      <td>0.000000</td>\n",
              "      <td>0.0</td>\n",
              "      <td>0.0</td>\n",
              "      <td>0.0</td>\n",
              "      <td>0.000000</td>\n",
              "      <td>0.0</td>\n",
              "      <td>0.000000</td>\n",
              "      <td>0.000000</td>\n",
              "      <td>0.000000</td>\n",
              "      <td>0.000000</td>\n",
              "    </tr>\n",
              "    <tr>\n",
              "      <th>3</th>\n",
              "      <td>0.0</td>\n",
              "      <td>0.0</td>\n",
              "      <td>0.0</td>\n",
              "      <td>0.080382</td>\n",
              "      <td>0.05338</td>\n",
              "      <td>0.0</td>\n",
              "      <td>0.0</td>\n",
              "      <td>0.0</td>\n",
              "      <td>0.090332</td>\n",
              "      <td>0.0</td>\n",
              "      <td>0.000000</td>\n",
              "      <td>0.000000</td>\n",
              "      <td>0.0</td>\n",
              "      <td>0.000000</td>\n",
              "      <td>0.0</td>\n",
              "      <td>0.071227</td>\n",
              "      <td>0.0</td>\n",
              "      <td>0.0</td>\n",
              "      <td>0.0</td>\n",
              "      <td>0.0</td>\n",
              "      <td>0.080382</td>\n",
              "      <td>0.000000</td>\n",
              "      <td>0.0</td>\n",
              "      <td>0.000000</td>\n",
              "      <td>0.000000</td>\n",
              "      <td>0.0</td>\n",
              "      <td>0.000000</td>\n",
              "      <td>0.0</td>\n",
              "      <td>0.0</td>\n",
              "      <td>0.000000</td>\n",
              "      <td>0.0</td>\n",
              "      <td>0.071064</td>\n",
              "      <td>0.0</td>\n",
              "      <td>0.0</td>\n",
              "      <td>0.0</td>\n",
              "      <td>0.0</td>\n",
              "      <td>0.0</td>\n",
              "      <td>0.0</td>\n",
              "      <td>0.0</td>\n",
              "      <td>0.071227</td>\n",
              "      <td>...</td>\n",
              "      <td>0.0</td>\n",
              "      <td>0.117966</td>\n",
              "      <td>0.0</td>\n",
              "      <td>0.000000</td>\n",
              "      <td>0.0</td>\n",
              "      <td>0.106759</td>\n",
              "      <td>0.0</td>\n",
              "      <td>0.0</td>\n",
              "      <td>0.0</td>\n",
              "      <td>0.0</td>\n",
              "      <td>0.0</td>\n",
              "      <td>0.0</td>\n",
              "      <td>0.516798</td>\n",
              "      <td>0.0</td>\n",
              "      <td>0.076831</td>\n",
              "      <td>0.0</td>\n",
              "      <td>0.000000</td>\n",
              "      <td>0.000000</td>\n",
              "      <td>0.0</td>\n",
              "      <td>0.000000</td>\n",
              "      <td>0.0</td>\n",
              "      <td>0.0</td>\n",
              "      <td>0.076831</td>\n",
              "      <td>0.073828</td>\n",
              "      <td>0.0</td>\n",
              "      <td>0.040877</td>\n",
              "      <td>0.0</td>\n",
              "      <td>0.076831</td>\n",
              "      <td>0.0</td>\n",
              "      <td>0.0</td>\n",
              "      <td>0.000000</td>\n",
              "      <td>0.0</td>\n",
              "      <td>0.0</td>\n",
              "      <td>0.0</td>\n",
              "      <td>0.000000</td>\n",
              "      <td>0.0</td>\n",
              "      <td>0.000000</td>\n",
              "      <td>0.096538</td>\n",
              "      <td>0.096538</td>\n",
              "      <td>0.054379</td>\n",
              "    </tr>\n",
              "    <tr>\n",
              "      <th>4</th>\n",
              "      <td>0.0</td>\n",
              "      <td>0.0</td>\n",
              "      <td>0.0</td>\n",
              "      <td>0.110357</td>\n",
              "      <td>0.00000</td>\n",
              "      <td>0.0</td>\n",
              "      <td>0.0</td>\n",
              "      <td>0.0</td>\n",
              "      <td>0.372053</td>\n",
              "      <td>0.0</td>\n",
              "      <td>0.000000</td>\n",
              "      <td>0.000000</td>\n",
              "      <td>0.0</td>\n",
              "      <td>0.000000</td>\n",
              "      <td>0.0</td>\n",
              "      <td>0.000000</td>\n",
              "      <td>0.0</td>\n",
              "      <td>0.0</td>\n",
              "      <td>0.0</td>\n",
              "      <td>0.0</td>\n",
              "      <td>0.110357</td>\n",
              "      <td>0.000000</td>\n",
              "      <td>0.0</td>\n",
              "      <td>0.000000</td>\n",
              "      <td>0.000000</td>\n",
              "      <td>0.0</td>\n",
              "      <td>0.000000</td>\n",
              "      <td>0.0</td>\n",
              "      <td>0.0</td>\n",
              "      <td>0.000000</td>\n",
              "      <td>0.0</td>\n",
              "      <td>0.048782</td>\n",
              "      <td>0.0</td>\n",
              "      <td>0.0</td>\n",
              "      <td>0.0</td>\n",
              "      <td>0.0</td>\n",
              "      <td>0.0</td>\n",
              "      <td>0.0</td>\n",
              "      <td>0.0</td>\n",
              "      <td>0.000000</td>\n",
              "      <td>...</td>\n",
              "      <td>0.0</td>\n",
              "      <td>0.000000</td>\n",
              "      <td>0.0</td>\n",
              "      <td>0.094639</td>\n",
              "      <td>0.0</td>\n",
              "      <td>0.073285</td>\n",
              "      <td>0.0</td>\n",
              "      <td>0.0</td>\n",
              "      <td>0.0</td>\n",
              "      <td>0.0</td>\n",
              "      <td>0.0</td>\n",
              "      <td>0.0</td>\n",
              "      <td>0.202719</td>\n",
              "      <td>0.0</td>\n",
              "      <td>0.000000</td>\n",
              "      <td>0.0</td>\n",
              "      <td>0.000000</td>\n",
              "      <td>0.000000</td>\n",
              "      <td>0.0</td>\n",
              "      <td>0.000000</td>\n",
              "      <td>0.0</td>\n",
              "      <td>0.0</td>\n",
              "      <td>0.000000</td>\n",
              "      <td>0.000000</td>\n",
              "      <td>0.0</td>\n",
              "      <td>0.000000</td>\n",
              "      <td>0.0</td>\n",
              "      <td>0.000000</td>\n",
              "      <td>0.0</td>\n",
              "      <td>0.0</td>\n",
              "      <td>0.000000</td>\n",
              "      <td>0.0</td>\n",
              "      <td>0.0</td>\n",
              "      <td>0.0</td>\n",
              "      <td>0.000000</td>\n",
              "      <td>0.0</td>\n",
              "      <td>0.000000</td>\n",
              "      <td>0.000000</td>\n",
              "      <td>0.000000</td>\n",
              "      <td>0.074657</td>\n",
              "    </tr>\n",
              "  </tbody>\n",
              "</table>\n",
              "<p>5 rows × 707 columns</p>\n",
              "</div>"
            ],
            "text/plain": [
              "    10  absent  acid    acidic  ...       www  yellowish     young      zone\n",
              "0  0.0     0.0   0.0  0.000000  ...  0.070248   0.000000  0.082951  0.000000\n",
              "1  0.0     0.0   0.0  0.000000  ...  0.000000   0.000000  0.000000  0.000000\n",
              "2  0.0     0.0   0.0  0.000000  ...  0.000000   0.000000  0.000000  0.000000\n",
              "3  0.0     0.0   0.0  0.080382  ...  0.000000   0.096538  0.096538  0.054379\n",
              "4  0.0     0.0   0.0  0.110357  ...  0.000000   0.000000  0.000000  0.074657\n",
              "\n",
              "[5 rows x 707 columns]"
            ]
          },
          "metadata": {
            "tags": []
          },
          "execution_count": 190
        }
      ]
    },
    {
      "cell_type": "code",
      "metadata": {
        "colab": {
          "base_uri": "https://localhost:8080/"
        },
        "id": "d2Yhdp4FNVxO",
        "outputId": "c5770e97-c6b0-4b89-8291-a34016243165"
      },
      "source": [
        "lr = LogisticRegression()\r\n",
        "rfc = RandomForestClassifier()\r\n",
        "gbc = GradientBoostingClassifier()\r\n",
        "\r\n",
        "lr.fit(train_df, y_train)\r\n",
        "rfc.fit(train_df, y_train)\r\n",
        "gbc.fit(train_df, y_train)\r\n",
        "\r\n",
        "print(\"----------------------Logistic Regression Scores----------------------\")\r\n",
        "print('Training set score:', lr.score(train_df, y_train))\r\n",
        "print('\\nTest set score:', lr.score(test_df, y_test))\r\n",
        "\r\n",
        "print(\"----------------------Random Forest Scores----------------------\")\r\n",
        "print('Training set score:', rfc.score(train_df, y_train))\r\n",
        "print('\\nTest set score:', rfc.score(test_df, y_test))\r\n",
        "\r\n",
        "print(\"----------------------Gradient Boosting Scores----------------------\")\r\n",
        "print('Training set score:', gbc.score(train_df, y_train))\r\n",
        "print('\\nTest set score:', gbc.score(test_df, y_test))"
      ],
      "execution_count": null,
      "outputs": [
        {
          "output_type": "stream",
          "text": [
            "----------------------Logistic Regression Scores----------------------\n",
            "Training set score: 0.911504424778761\n",
            "\n",
            "Test set score: 0.5517241379310345\n",
            "----------------------Random Forest Scores----------------------\n",
            "Training set score: 1.0\n",
            "\n",
            "Test set score: 0.5862068965517241\n",
            "----------------------Gradient Boosting Scores----------------------\n",
            "Training set score: 1.0\n",
            "\n",
            "Test set score: 0.6551724137931034\n"
          ],
          "name": "stdout"
        }
      ]
    },
    {
      "cell_type": "code",
      "metadata": {
        "id": "umuIPpCzGpNl",
        "colab": {
          "base_uri": "https://localhost:8080/"
        },
        "outputId": "a561f080-84fa-4d2f-cc20-b8a3b2f4907b"
      },
      "source": [
        "10//3"
      ],
      "execution_count": null,
      "outputs": [
        {
          "output_type": "execute_result",
          "data": {
            "text/plain": [
              "3"
            ]
          },
          "metadata": {
            "tags": []
          },
          "execution_count": 1
        }
      ]
    }
  ]
}