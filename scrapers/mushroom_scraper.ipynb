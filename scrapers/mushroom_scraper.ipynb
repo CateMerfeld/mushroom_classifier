{
  "nbformat": 4,
  "nbformat_minor": 0,
  "metadata": {
    "colab": {
      "name": "mushroom_scraper.ipynb",
      "provenance": [],
      "collapsed_sections": []
    },
    "kernelspec": {
      "name": "python3",
      "display_name": "Python 3"
    }
  },
  "cells": [
    {
      "cell_type": "code",
      "metadata": {
        "id": "yaJ_-vMNI28f"
      },
      "source": [
        "from bs4 import BeautifulSoup\r\n",
        "import requests\r\n",
        "import random\r\n",
        "import math"
      ],
      "execution_count": null,
      "outputs": []
    },
    {
      "cell_type": "markdown",
      "metadata": {
        "id": "41p03ZIKW5vH"
      },
      "source": [
        "# Mushroom world scraper:\r\n",
        "---"
      ]
    },
    {
      "cell_type": "code",
      "metadata": {
        "id": "HZSYOfRAM9MI"
      },
      "source": [
        "def mw_scraper(m_type, pics_list, page_range):\r\n",
        "  '''\r\n",
        "  Scrapes picture links from results of search on mushroom.world \r\n",
        "  and adds results to list\r\n",
        "\r\n",
        "  Arguments:\r\n",
        "    m_type: str, edible or inedible\r\n",
        "    pics_list: empty list to store image results\r\n",
        "    page_range: range(0, number of pages of search results for m_type)\r\n",
        "  '''\r\n",
        "  for page in page_range:\r\n",
        "    # iterate through each page of search results and generate appropriate url\r\n",
        "    if page == 0:\r\n",
        "      url='http://www.mushroom.world/mushrooms/' + m_type\r\n",
        "    else:\r\n",
        "      url = 'http://www.mushroom.world/mushrooms/'+ m_type + '?page=' + str(page)\r\n",
        "    response = requests.get(url)\r\n",
        "    content = response.text\r\n",
        "    soup = BeautifulSoup(content, 'html.parser')\r\n",
        "    # get all 'img' tags and save to list\r\n",
        "    details = [tag for tag in soup.find_all('img', {'alt':'Picture'}, src=True)]\r\n",
        "    pics_list += details"
      ],
      "execution_count": null,
      "outputs": []
    },
    {
      "cell_type": "code",
      "metadata": {
        "id": "OXzrFKhEVYob"
      },
      "source": [
        "# set up lists to hold results of web scrape\r\n",
        "mw_ed_image_details, mw_ined_image_details = [], []\r\n",
        "\r\n",
        "# run each results page through the scraper\r\n",
        "mw_scraper('edible', mw_ed_image_details, range(0,8))\r\n",
        "mw_scraper('poisonous', mw_ined_image_details, range(0,4))"
      ],
      "execution_count": null,
      "outputs": []
    },
    {
      "cell_type": "code",
      "metadata": {
        "colab": {
          "base_uri": "https://localhost:8080/"
        },
        "id": "tGd6UUS_TU6a",
        "outputId": "7d0b19fc-76ca-4e11-8701-85db2465e71e"
      },
      "source": [
        "mw_ed_image_details[0]"
      ],
      "execution_count": null,
      "outputs": [
        {
          "output_type": "execute_result",
          "data": {
            "text/plain": [
              "<img alt=\"Picture\" src=\"/../data/fungi/Agaricusarvensis1-thumb.JPG\"/>"
            ]
          },
          "metadata": {
            "tags": []
          },
          "execution_count": 4
        }
      ]
    },
    {
      "cell_type": "code",
      "metadata": {
        "id": "xleTWEmYKhto"
      },
      "source": [
        "# strip unnecessary characters and add address for each image\r\n",
        "mw_ed_links = [str(link).strip('<img alt=\"Picture\" src=\"/..\"/>') for link in mw_ed_image_details] \r\n",
        "mw_ed_links = ['http://www.mushroom.world/' + link for link in mw_ed_links]\r\n",
        "mw_ined_links = [str(link).strip('<img alt=\"Picture\" src=\"/..\"/>') for link in mw_ined_image_details]\r\n",
        "mw_ined_links = ['http://www.mushroom.world/' + link for link in mw_ined_links]"
      ],
      "execution_count": null,
      "outputs": []
    },
    {
      "cell_type": "markdown",
      "metadata": {
        "id": "v4lgkooenNfA"
      },
      "source": [
        "# WildFood scraper:\r\n",
        "---"
      ]
    },
    {
      "cell_type": "code",
      "metadata": {
        "id": "bjuBE_P5r_3B"
      },
      "source": [
        "# get all links to mushroom detail pages on the results page \r\n",
        "# for edible mushrooms on wildfooduk.com\r\n",
        "url = 'https://www.wildfooduk.com/mushroom-guide/?mushroom_type=edible'\r\n",
        "response = requests.get(url)\r\n",
        "content = response.text\r\n",
        "soup = BeautifulSoup(content, 'html.parser')\r\n",
        "wf_edible_links = [tag for tag in soup.find_all('td', {'class':'mushroom-image'})]\r\n",
        "\r\n",
        "# repeat for poisonous mushrooms\r\n",
        "url = 'https://www.wildfooduk.com/mushroom-guide/?mushroom_type=poisonous'\r\n",
        "response = requests.get(url)\r\n",
        "content = response.text\r\n",
        "soup = BeautifulSoup(content, 'html.parser')\r\n",
        "wf_inedible_links = [tag for tag in soup.find_all('td', {'class':'mushroom-image'})]"
      ],
      "execution_count": null,
      "outputs": []
    },
    {
      "cell_type": "code",
      "metadata": {
        "id": "lDfE9v3BKeMC",
        "colab": {
          "base_uri": "https://localhost:8080/"
        },
        "outputId": "951e4080-44f3-4e60-8832-743e20b0719c"
      },
      "source": [
        "wf_inedible_links[0]"
      ],
      "execution_count": null,
      "outputs": [
        {
          "output_type": "execute_result",
          "data": {
            "text/plain": [
              "<td class=\"mushroom-image\">\n",
              "<a href=\"https://www.wildfooduk.com/mushroom-guide/inky-mushroom/\">\n",
              "<img alt=\"Inky Mushroom\" class=\"attachment-custom_mushroom_thumb size-custom_mushroom_thumb wp-post-image\" height=\"166\" sizes=\"(max-width: 250px) 100vw, 250px\" src=\"https://www.wildfooduk.com/wp-content/uploads/2018/01/Inky-1-250x166.jpg\" srcset=\"https://www.wildfooduk.com/wp-content/uploads/2018/01/Inky-1-250x166.jpg 250w, https://www.wildfooduk.com/wp-content/uploads/2018/01/Inky-1-434x288.jpg 434w\" title=\"Inky Mushroom\" width=\"250\"/> </a>\n",
              "</td>"
            ]
          },
          "metadata": {
            "tags": []
          },
          "execution_count": 7
        }
      ]
    },
    {
      "cell_type": "code",
      "metadata": {
        "colab": {
          "base_uri": "https://localhost:8080/",
          "height": 35
        },
        "id": "GEkSTdnzsQmC",
        "outputId": "0b26d23a-1c1d-475f-852a-d7abf36a8811"
      },
      "source": [
        "# get link to each mushroom's details page by removing unnecessary characters\r\n",
        "wf_ed_links = [str(link).split('\"')[3] for link in wf_edible_links]\r\n",
        "wf_ined_links = [str(link).split('\"')[3] for link in wf_inedible_links]\r\n",
        "wf_ined_links[0]"
      ],
      "execution_count": null,
      "outputs": [
        {
          "output_type": "execute_result",
          "data": {
            "application/vnd.google.colaboratory.intrinsic+json": {
              "type": "string"
            },
            "text/plain": [
              "'https://www.wildfooduk.com/mushroom-guide/inky-mushroom/'"
            ]
          },
          "metadata": {
            "tags": []
          },
          "execution_count": 8
        }
      ]
    },
    {
      "cell_type": "code",
      "metadata": {
        "id": "jU2L0NYns5Os"
      },
      "source": [
        "def wildfood_scraper(link_list, list_name):\r\n",
        "  '''\r\n",
        "  Scrapes picture links from details pages for each mushroom on \r\n",
        "  wildfooduk.com and adds results to a list\r\n",
        "\r\n",
        "  Arguments:\r\n",
        "    link_list: list of links to each mushroom's details page\r\n",
        "    list_name: empty list to hold results\r\n",
        "  '''\r\n",
        "  for url in link_list:\r\n",
        "    response = requests.get(url)\r\n",
        "    content = response.text\r\n",
        "    soup = BeautifulSoup(content, 'html.parser')\r\n",
        "    details = [tag for tag in soup.find_all('img', {'width':'132'}, src=True)]\r\n",
        "    list_name += details"
      ],
      "execution_count": null,
      "outputs": []
    },
    {
      "cell_type": "code",
      "metadata": {
        "colab": {
          "base_uri": "https://localhost:8080/"
        },
        "id": "jc7_Jy6rt1q4",
        "outputId": "d8f78e0c-632c-4886-ab97-eda8aafc43bb"
      },
      "source": [
        "# create empty list to hold scraping results\r\n",
        "wf_eds, wf_ineds = [], []\r\n",
        "# run each list of links through the scraper\r\n",
        "wildfood_scraper(wf_ed_links, wf_eds)\r\n",
        "wildfood_scraper(wf_ined_links, wf_ineds)\r\n",
        "wf_ineds[0]"
      ],
      "execution_count": null,
      "outputs": [
        {
          "output_type": "execute_result",
          "data": {
            "text/plain": [
              "<img alt=\"\" class=\"attachment-custom_gallery_thumb size-custom_gallery_thumb\" height=\"99\" sizes=\"(max-width: 132px) 100vw, 132px\" src=\"https://www.wildfooduk.com/wp-content/uploads/2018/01/Inky-1-132x99.jpg\" srcset=\"https://www.wildfooduk.com/wp-content/uploads/2018/01/Inky-1-132x99.jpg 132w, https://www.wildfooduk.com/wp-content/uploads/2018/01/Inky-1-547x410.jpg 547w, https://www.wildfooduk.com/wp-content/uploads/2018/01/Inky-1-720x540.jpg 720w, https://www.wildfooduk.com/wp-content/uploads/2018/01/Inky-1-300x225.jpg 300w, https://www.wildfooduk.com/wp-content/uploads/2018/01/Inky-1-768x576.jpg 768w, https://www.wildfooduk.com/wp-content/uploads/2018/01/Inky-1-1024x768.jpg 1024w, https://www.wildfooduk.com/wp-content/uploads/2018/01/Inky-1-200x150.jpg 200w, https://www.wildfooduk.com/wp-content/uploads/2018/01/Inky-1-552x414.jpg 552w, https://www.wildfooduk.com/wp-content/uploads/2018/01/Inky-1-60x45.jpg 60w, https://www.wildfooduk.com/wp-content/uploads/2018/01/Inky-1-533x400.jpg 533w, https://www.wildfooduk.com/wp-content/uploads/2018/01/Inky-1.jpg 1496w\" width=\"132\"/>"
            ]
          },
          "metadata": {
            "tags": []
          },
          "execution_count": 10
        }
      ]
    },
    {
      "cell_type": "code",
      "metadata": {
        "colab": {
          "base_uri": "https://localhost:8080/"
        },
        "id": "7jH24ViUujdx",
        "outputId": "f1663aeb-0735-4d35-e094-748e0b119864"
      },
      "source": [
        "# get image link by removing unnecessary characters\r\n",
        "wf_eds = [str(link).split('src')[1].strip('=\"\" ') for link in wf_eds]\r\n",
        "wf_ineds = [str(link).split('src')[1].strip('=\"\" ') for link in wf_ineds]\r\n",
        "wf_ineds[:5]"
      ],
      "execution_count": null,
      "outputs": [
        {
          "output_type": "execute_result",
          "data": {
            "text/plain": [
              "['https://www.wildfooduk.com/wp-content/uploads/2018/01/Inky-1-132x99.jpg',\n",
              " 'https://www.wildfooduk.com/wp-content/uploads/2018/01/Inky-2-132x99.jpg',\n",
              " 'https://www.wildfooduk.com/wp-content/uploads/2018/01/Inky-3-132x99.jpg',\n",
              " 'https://www.wildfooduk.com/wp-content/uploads/2018/01/Inky-6-132x99.jpg',\n",
              " 'https://www.wildfooduk.com/wp-content/uploads/2018/01/Inky-4-132x99.jpg']"
            ]
          },
          "metadata": {
            "tags": []
          },
          "execution_count": 11
        }
      ]
    },
    {
      "cell_type": "markdown",
      "metadata": {
        "id": "ygsgVRE_6G9M"
      },
      "source": [
        "# LuontoPortti Scraper:\r\n",
        "---"
      ]
    },
    {
      "cell_type": "code",
      "metadata": {
        "id": "AuIvHA_S_Yd3"
      },
      "source": [
        "# list of page numbers containing results for edible mushrooms\r\n",
        "ed_page_nums = [1,2,3,5,6]\r\n",
        "# list of page numbers containing results for edible mushrooms\r\n",
        "ined_page_nums = [8,9,10]\r\n",
        "\r\n",
        "# set up empty lists to hold results\r\n",
        "lp_edible_links, lp_inedible_links = [], []\r\n",
        "# iterate through results pages and get a link for each mushroom details page\r\n",
        "for i in ed_page_nums:\r\n",
        "  url = 'https://www.luontoportti.com/suomi/fi/sienet/?list=' + str(i)\r\n",
        "  response = requests.get(url)\r\n",
        "  content = response.text\r\n",
        "  soup = BeautifulSoup(content, 'html.parser')\r\n",
        "  lp_edible_links += [tag for tag in soup.find_all('a', {'rel':'bookmark'})]\r\n",
        "\r\n",
        "# repeat for poisonous mushrooms\r\n",
        "for i in ined_page_nums:\r\n",
        "  url = 'https://www.luontoportti.com/suomi/fi/sienet/?list=' + str(i)\r\n",
        "  response = requests.get(url)\r\n",
        "  content = response.text\r\n",
        "  soup = BeautifulSoup(content, 'html.parser')\r\n",
        "  lp_inedible_links += [tag for tag in soup.find_all('a', {'rel':'bookmark'})]"
      ],
      "execution_count": null,
      "outputs": []
    },
    {
      "cell_type": "code",
      "metadata": {
        "colab": {
          "base_uri": "https://localhost:8080/"
        },
        "id": "EvbWVY1s_Is8",
        "outputId": "7162374b-2052-41cc-e682-1c00df949715"
      },
      "source": [
        "lp_edible_links[0]"
      ],
      "execution_count": null,
      "outputs": [
        {
          "output_type": "execute_result",
          "data": {
            "text/plain": [
              "<a href=\"https://www.luontoportti.com/suomi/fi/sienet/herkkutatti\" rel=\"bookmark\">\n",
              "<img alt=\"\" height=\"100\" src=\"https://www.luontoportti.com/suomi/images/27669t.jpg\" width=\"100\"/>\n",
              "</a>"
            ]
          },
          "metadata": {
            "tags": []
          },
          "execution_count": 159
        }
      ]
    },
    {
      "cell_type": "code",
      "metadata": {
        "colab": {
          "base_uri": "https://localhost:8080/",
          "height": 35
        },
        "id": "say7Gfaq_Is9",
        "outputId": "86ab5d08-d586-47a0-fa79-c8fca1dadb8d"
      },
      "source": [
        "# get link to each mushroom's details page by removing unnecessary characters\r\n",
        "lp_ed_links = [str(link).split('\"')[1] for link in lp_edible_links]\r\n",
        "lp_ined_links = [str(link).split('\"')[1] for link in lp_inedible_links]\r\n",
        "lp_ined_links[0]"
      ],
      "execution_count": null,
      "outputs": [
        {
          "output_type": "execute_result",
          "data": {
            "application/vnd.google.colaboratory.intrinsic+json": {
              "type": "string"
            },
            "text/plain": [
              "'https://www.luontoportti.com/suomi/fi/sienet/kangaskarpassieni'"
            ]
          },
          "metadata": {
            "tags": []
          },
          "execution_count": 160
        }
      ]
    },
    {
      "cell_type": "code",
      "metadata": {
        "id": "XrYvoSx8_Is_"
      },
      "source": [
        "def luotoportti_scraper(links, list_name):\r\n",
        "  '''\r\n",
        "  Scrapes picture links from details pages for each mushroom on \r\n",
        "  luotoportti.com and adds results to a list\r\n",
        "\r\n",
        "  Arguments:\r\n",
        "    link_list: list of links to each mushroom's details page\r\n",
        "    list_name: empty list to hold results\r\n",
        "  '''\r\n",
        "  for url in links:\r\n",
        "    response = requests.get(url)\r\n",
        "    content = response.text\r\n",
        "    soup = BeautifulSoup(content, 'html.parser')\r\n",
        "    details = [tag for tag in soup.find_all('a', {'rel':'shadowbox[-]smd'})]\r\n",
        "    list_name += details"
      ],
      "execution_count": null,
      "outputs": []
    },
    {
      "cell_type": "code",
      "metadata": {
        "colab": {
          "base_uri": "https://localhost:8080/"
        },
        "id": "Yuc97E8F_ItA",
        "outputId": "8bd84333-872c-43e8-b973-03e0eebad7b8"
      },
      "source": [
        "# create empty lists to hold scraping results\r\n",
        "lp_eds, lp_ineds = [], []\r\n",
        "# run each list of links through the scraper\r\n",
        "luotoportti_scraper(lp_ed_links, lp_eds)\r\n",
        "luotoportti_scraper(lp_ined_links, lp_ineds)\r\n",
        "lp_eds[0]"
      ],
      "execution_count": null,
      "outputs": [
        {
          "output_type": "execute_result",
          "data": {
            "text/plain": [
              "<a href=\"https://www.luontoportti.com/suomi/images/18969.jpg\" rel=\"shadowbox[-]smd\" title=\"\"><img alt=\"\" src=\"https://www.luontoportti.com/suomi/images/18969t.jpg\"/></a>"
            ]
          },
          "metadata": {
            "tags": []
          },
          "execution_count": 162
        }
      ]
    },
    {
      "cell_type": "code",
      "metadata": {
        "colab": {
          "base_uri": "https://localhost:8080/"
        },
        "id": "f6ZtpBT6_ItA",
        "outputId": "c4b3c24b-8502-4599-923e-a020f91e2f4e"
      },
      "source": [
        "# get image link by removing unnecessary characters\r\n",
        "lp_eds = [str(link).split('\"')[1] for link in lp_eds]\r\n",
        "lp_ineds = [str(link).split('\"')[1] for link in lp_ineds]\r\n",
        "lp_ineds[:5]"
      ],
      "execution_count": null,
      "outputs": [
        {
          "output_type": "execute_result",
          "data": {
            "text/plain": [
              "['https://www.luontoportti.com/suomi/images/24377.jpg',\n",
              " 'https://www.luontoportti.com/suomi/images/19085.jpg',\n",
              " 'https://www.luontoportti.com/suomi/images/19069.jpg',\n",
              " 'https://www.luontoportti.com/suomi/images/26643.jpg',\n",
              " 'https://www.luontoportti.com/suomi/images/26645.jpg']"
            ]
          },
          "metadata": {
            "tags": []
          },
          "execution_count": 163
        }
      ]
    },
    {
      "cell_type": "markdown",
      "metadata": {
        "id": "bn7VtxsIPFL7"
      },
      "source": [
        "# Foraging Guide Scraper:\r\n",
        "---"
      ]
    },
    {
      "cell_type": "code",
      "metadata": {
        "id": "hUMWbRCjjbFt"
      },
      "source": [
        "# get all links on the results page for edible mushrooms on foragingguide.com\r\n",
        "url = 'http://www.foragingguide.com/mushrooms/edible_by_common_name'\r\n",
        "response = requests.get(url)\r\n",
        "content = response.text\r\n",
        "soup = BeautifulSoup(content, 'html.parser')\r\n",
        "fg_ed_details = [tag for tag in soup.find_all('div', {'class':'info'})]\r\n",
        "\r\n",
        "# # repeat for poisonous mushrooms\r\n",
        "url = 'http://www.foragingguide.com/mushrooms/poisonous_by_common_name'\r\n",
        "response = requests.get(url)\r\n",
        "content = response.text\r\n",
        "soup = BeautifulSoup(content, 'html.parser')\r\n",
        "fg_ined_details = [tag for tag in soup.find_all('div', {'class':'info'})]"
      ],
      "execution_count": null,
      "outputs": []
    },
    {
      "cell_type": "code",
      "metadata": {
        "id": "N8G3qQZ0j6L7",
        "colab": {
          "base_uri": "https://localhost:8080/"
        },
        "outputId": "8edd3bba-d540-42f6-ace8-8551147e9f2a"
      },
      "source": [
        "fg_ined_details[0]"
      ],
      "execution_count": null,
      "outputs": [
        {
          "output_type": "execute_result",
          "data": {
            "text/plain": [
              "<div class=\"info\"> <div><a href=\"/mushrooms/sp/beechwood_sickener\"><span class=\"name\">Beechwood Sickener</span></a> </div> <div><span class=\"name\">(Russula nobilis)</span></div> <div class=\"freq_edib\">common, poisonous</div></div>"
            ]
          },
          "metadata": {
            "tags": []
          },
          "execution_count": 165
        }
      ]
    },
    {
      "cell_type": "code",
      "metadata": {
        "id": "WIaoNNktktrJ",
        "colab": {
          "base_uri": "https://localhost:8080/"
        },
        "outputId": "49afabdd-97be-4b4f-8f9d-3274abd6a262"
      },
      "source": [
        "# strip unnecessary characters and add address bar for each page\r\n",
        "fg_ed_links = [str(link).split('href=')[1].split('\"')[1] for link in fg_ed_details]\r\n",
        "fg_ed_links = ['http://www.foragingguide.com' + link for link in fg_ed_links]\r\n",
        "fg_ined_links = [str(link).split('href=')[1].split('\"')[1] for link in fg_ined_details]\r\n",
        "fg_ined_links = ['http://www.foragingguide.com' + link for link in fg_ined_links]\r\n",
        "fg_ined_links[:5]"
      ],
      "execution_count": null,
      "outputs": [
        {
          "output_type": "execute_result",
          "data": {
            "text/plain": [
              "['http://www.foragingguide.com/mushrooms/sp/beechwood_sickener',\n",
              " 'http://www.foragingguide.com/mushrooms/sp/brown_roll_rim',\n",
              " 'http://www.foragingguide.com/mushrooms/sp/common_inkcap',\n",
              " 'http://www.foragingguide.com/mushrooms/sp/deathcap',\n",
              " 'http://www.foragingguide.com/mushrooms/sp/turban_fungus']"
            ]
          },
          "metadata": {
            "tags": []
          },
          "execution_count": 166
        }
      ]
    },
    {
      "cell_type": "code",
      "metadata": {
        "id": "fJz4dcv_5wJl"
      },
      "source": [
        "def foragingguide_scraper(links, list_name):\r\n",
        "  '''\r\n",
        "  Scrapes picture links from details pages for each mushroom on \r\n",
        "  foraging.com and adds results to a list\r\n",
        "\r\n",
        "  Arguments:\r\n",
        "    link_list: list of links to each mushroom's details page\r\n",
        "    list_name: empty list to hold results\r\n",
        "  '''\r\n",
        "  for url in links:\r\n",
        "    response = requests.get(url)\r\n",
        "    content = response.text\r\n",
        "    soup = BeautifulSoup(content, 'html.parser')\r\n",
        "    details = [tag for tag in soup.find_all('img', {'height':'100'})]\r\n",
        "    list_name += details"
      ],
      "execution_count": null,
      "outputs": []
    },
    {
      "cell_type": "code",
      "metadata": {
        "id": "OxAH-3Dn8vGd",
        "colab": {
          "base_uri": "https://localhost:8080/"
        },
        "outputId": "80df9f38-40db-4d5c-bb6d-5f365fd12092"
      },
      "source": [
        "# set up lists to hold results\r\n",
        "fg_eds, fg_ineds = [], []\r\n",
        "\r\n",
        "# get all image links for edible mushrooms\r\n",
        "foragingguide_scraper(fg_ed_links, fg_eds)\r\n",
        "# get all image links for inedible mushrooms\r\n",
        "foragingguide_scraper(fg_ined_links, fg_ineds)\r\n",
        "fg_ineds[0]"
      ],
      "execution_count": null,
      "outputs": [
        {
          "output_type": "execute_result",
          "data": {
            "text/plain": [
              "<img class=\"img_thumb\" height=\"100\" src=\"http://static.foragingguide.com/photos/mushrooms/beechwood_sickener/thumb/130.jpg\" title=\"Click to enlarge\" width=\"100\"/>"
            ]
          },
          "metadata": {
            "tags": []
          },
          "execution_count": 168
        }
      ]
    },
    {
      "cell_type": "code",
      "metadata": {
        "colab": {
          "base_uri": "https://localhost:8080/",
          "height": 35
        },
        "id": "QHuJtmE5SSZ6",
        "outputId": "cee06775-a6c7-4e1b-f5f5-722e5ca3ff89"
      },
      "source": [
        "# remove unnecessary characters to get list of urls\r\n",
        "fg_eds = [str(link).split('\"')[5] for link in fg_eds]\r\n",
        "fg_ineds = [str(link).split('\"')[5] for link in fg_ineds]\r\n",
        "fg_ineds[0]"
      ],
      "execution_count": null,
      "outputs": [
        {
          "output_type": "execute_result",
          "data": {
            "application/vnd.google.colaboratory.intrinsic+json": {
              "type": "string"
            },
            "text/plain": [
              "'http://static.foragingguide.com/photos/mushrooms/beechwood_sickener/thumb/130.jpg'"
            ]
          },
          "metadata": {
            "tags": []
          },
          "execution_count": 169
        }
      ]
    },
    {
      "cell_type": "code",
      "metadata": {
        "colab": {
          "base_uri": "https://localhost:8080/"
        },
        "id": "hT8MbLgR9eTq",
        "outputId": "6b7f3aee-b533-48fb-cb7d-c0a87d1ed4a7"
      },
      "source": [
        "eds = len(mw_ed_links + wf_eds + lp_eds + fg_eds)\r\n",
        "ineds = len(mw_ined_links + wf_ineds + lp_ineds + fg_ineds)\r\n",
        "print(f'Image results contain: {eds} edible mushrooms and {ineds} poisonous mushrooms')"
      ],
      "execution_count": null,
      "outputs": [
        {
          "output_type": "stream",
          "text": [
            "Image results contain: 4403 edible mushrooms and 1054 poisonous mushrooms\n"
          ],
          "name": "stdout"
        }
      ]
    },
    {
      "cell_type": "markdown",
      "metadata": {
        "id": "7Le6DMhXXdct"
      },
      "source": [
        "# Store images in Drive:\r\n",
        "---"
      ]
    },
    {
      "cell_type": "code",
      "metadata": {
        "id": "srh0qd7bIOBY"
      },
      "source": [
        "def write_files(train_val, m_type, links):\r\n",
        "  '''  \r\n",
        "  Requests each image and stores in designated google drive folder\r\n",
        "\r\n",
        "  Arguments:\r\n",
        "    train_val: str, folder to be stored in, training or validation\r\n",
        "    m_type: str, edible or inedible\r\n",
        "    links: list of links for images to be requested\r\n",
        "  '''\r\n",
        "  PATH = '/content/drive/MyDrive/Data_Science_Course/Capstones/Capstone_4/new_data/mush/'+ train_val + '/' + m_type + '/'\r\n",
        "  for i, link in enumerate(links):\r\n",
        "    response = requests.get(link)\r\n",
        "    if response.ok:\r\n",
        "      img_data = response.content\r\n",
        "      name = m_type + '_' + str(i) + '.jpg'\r\n",
        "      with open(PATH + name, 'wb') as f:\r\n",
        "        f.write(img_data)"
      ],
      "execution_count": null,
      "outputs": []
    },
    {
      "cell_type": "code",
      "metadata": {
        "id": "UtBAuL06TEBe"
      },
      "source": [
        "def store_images(m_type, links):\r\n",
        "  '''\r\n",
        "  Divides into test and validation sets and then runs each set through the write_files function\r\n",
        "\r\n",
        "  Arguments:\r\n",
        "    m_type: str, edible or inedible\r\n",
        "    links: list of links for images to be requested\r\n",
        "  '''\r\n",
        "  # find number of images to be used for validation\r\n",
        "  num = math.floor(len(links)*.2)\r\n",
        "\r\n",
        "  # get random sample of 20% to be used as validation data\r\n",
        "  val_links = random.sample(links, num)\r\n",
        "\r\n",
        "  # use remaining data for training\r\n",
        "  tr_links = [link for link in links if not link in val_links]\r\n",
        "\r\n",
        "  write_files('m_train', m_type, tr_links)\r\n",
        "  write_files('m_val', m_type, val_links)"
      ],
      "execution_count": null,
      "outputs": []
    },
    {
      "cell_type": "code",
      "metadata": {
        "id": "Qqf08kvqWr-P"
      },
      "source": [
        "# compile link lists from different sites\r\n",
        "eds = set(mw_ed_links + wf_eds + lp_eds + fg_eds)\r\n",
        "ineds = set(mw_ined_links + wf_ineds + lp_ineds + fg_ineds)"
      ],
      "execution_count": null,
      "outputs": []
    },
    {
      "cell_type": "code",
      "metadata": {
        "id": "NFnYWNI8WmGF"
      },
      "source": [
        "# run each list through the store_images function\r\n",
        "store_images('edible', eds)\r\n",
        "store_images('poisonous', ineds)"
      ],
      "execution_count": null,
      "outputs": []
    },
    {
      "cell_type": "markdown",
      "metadata": {
        "id": "H0XP2urUIaFg"
      },
      "source": [
        "# Info:\r\n",
        "---"
      ]
    },
    {
      "cell_type": "code",
      "metadata": {
        "id": "ioGQLvVWIbqD"
      },
      "source": [
        "def mw_info_scraper(m_type, info_list, page_range):\r\n",
        "  '''\r\n",
        "  Function to scrape mushroom descriptions from results of search \r\n",
        "  on mushroom.world and add results to passed list\r\n",
        "  '''\r\n",
        "  for page in page_range:\r\n",
        "    # iterate through each page of search results and generate appropriate url\r\n",
        "    if page == 0:\r\n",
        "      url='http://www.mushroom.world/mushrooms/' + m_type\r\n",
        "    else:\r\n",
        "      url = 'http://www.mushroom.world/mushrooms/'+ m_type + '?page=' + str(page)\r\n",
        "    response = requests.get(url)\r\n",
        "    content = response.text\r\n",
        "    soup = BeautifulSoup(content, 'html.parser')\r\n",
        "    # get all 'div' tags of class 'longtextus and save to list\r\n",
        "    details = [tag.get_text() for tag in soup.find_all('div', {'class':'longtextus'})]\r\n",
        "    info_list += details"
      ],
      "execution_count": null,
      "outputs": []
    },
    {
      "cell_type": "code",
      "metadata": {
        "id": "jnX_1MwRIfw3"
      },
      "source": [
        "mw_ed_info, mw_ined_info = [], []\r\n",
        "mw_info_scraper('edible', mw_ed_info, range(0,8))\r\n",
        "mw_info_scraper('poisonous', mw_ined_info, range(0,4))"
      ],
      "execution_count": null,
      "outputs": []
    },
    {
      "cell_type": "code",
      "metadata": {
        "id": "i2POV2EQIyyp"
      },
      "source": [
        "# # save edible mushroom info to drive files\r\n",
        "PATH = '/content/drive/MyDrive/Data_Science_Course/Capstones/Capstone_4/mushroom_info/ed_info/'\r\n",
        "for i, j in enumerate(mw_ed_info):\r\n",
        "  with open(PATH + f'edible{i}.txt', 'wb') as f:\r\n",
        "    f.write(j.encode())\r\n",
        "\r\n",
        "# save inedible mushroom info to drive files\r\n",
        "PATH = '/content/drive/MyDrive/Data_Science_Course/Capstones/Capstone_4/mushroom_info/ined_info/'\r\n",
        "for i, j in enumerate(mw_ined_info):\r\n",
        "  with open(PATH + f'inedible{i}.txt', 'wb') as f:\r\n",
        "    f.write(j.encode())"
      ],
      "execution_count": null,
      "outputs": []
    },
    {
      "cell_type": "markdown",
      "metadata": {
        "id": "kQabycYhiK97"
      },
      "source": [
        "# Names:\r\n",
        "---"
      ]
    },
    {
      "cell_type": "code",
      "metadata": {
        "id": "DCNLeXcUizUS"
      },
      "source": [
        "def mw_name_scraper(m_type, name_list, page_range):\r\n",
        "  '''\r\n",
        "  Function to scrape names and picture links from results of search \r\n",
        "  on mushroom.world and add results to passed list\r\n",
        "  '''\r\n",
        "  for page in page_range:\r\n",
        "    # iterate through each page of search results and generate appropriate url\r\n",
        "    if page == 0:\r\n",
        "      url='http://www.mushroom.world/mushrooms/' + m_type\r\n",
        "    else:\r\n",
        "      url = 'http://www.mushroom.world/mushrooms/'+ m_type + '?page=' + str(page)\r\n",
        "    response = requests.get(url)\r\n",
        "    content = response.text\r\n",
        "    soup = BeautifulSoup(content, 'html.parser')\r\n",
        "    # get all 'div' 'caption' tags (contain names) and save to list\r\n",
        "    name_details = [tag for tag in soup.find_all('div', {'class':'caption'})]\r\n",
        "    name_list += name_details"
      ],
      "execution_count": null,
      "outputs": []
    },
    {
      "cell_type": "code",
      "metadata": {
        "id": "j1GsCwvlh_Hh"
      },
      "source": [
        "mw_ined_names = []\r\n",
        "mw_name_scraper('poisonous', mw_ined_names, range(0,4))\r\n",
        "\r\n",
        "mw_ined_names = [str(i).split('>')[2].split('\\r\\n')[1].strip(' ').lower() for i in mw_ined_names]"
      ],
      "execution_count": null,
      "outputs": []
    },
    {
      "cell_type": "code",
      "metadata": {
        "id": "hg-dL7VNCohB"
      },
      "source": [
        "# repeat for poisonous mushrooms, add to list of inedible\r\n",
        "url = 'https://www.wildfooduk.com/mushroom-guide/?mushroom_type=poisonous'\r\n",
        "response = requests.get(url)\r\n",
        "content = response.text\r\n",
        "soup = BeautifulSoup(content, 'html.parser')\r\n",
        "wf_ined_list = [tag for tag in soup.find_all('td', {'class':'spotlight-text'})]"
      ],
      "execution_count": null,
      "outputs": []
    },
    {
      "cell_type": "code",
      "metadata": {
        "id": "g1bILpb8Hq9G"
      },
      "source": [
        "# wf_ined_names = [str(name).split('\\n')[2].split('<')[0].strip().lower() for name in wf_ined_list]\r\n",
        "# wf_ined_names"
      ],
      "execution_count": null,
      "outputs": []
    },
    {
      "cell_type": "code",
      "metadata": {
        "colab": {
          "base_uri": "https://localhost:8080/"
        },
        "id": "wwg7M6AeQrWy",
        "outputId": "ea043823-ee55-49ee-ece5-60305ea90cb1"
      },
      "source": [
        "mw_ed_names = []\r\n",
        "mw_name_scraper('edible', mw_ed_names, range(0,4))\r\n",
        "\r\n",
        "mw_ed_names = [str(i).split('>')[2].split('\\r\\n')[1].strip(' ').lower() for i in mw_ed_names]\r\n",
        "mw_ed_names[:10]"
      ],
      "execution_count": null,
      "outputs": [
        {
          "output_type": "execute_result",
          "data": {
            "text/plain": [
              "['agaricus arvensis',\n",
              " 'agaricus augustus',\n",
              " 'albatrellus ovinus',\n",
              " 'armillaria mellea',\n",
              " 'boletus badius',\n",
              " 'boletus edulis',\n",
              " 'boletus pinophilus',\n",
              " 'boletus subtomentosus',\n",
              " 'bondarzewia berkeleyi',\n",
              " 'bovista plumbea']"
            ]
          },
          "metadata": {
            "tags": []
          },
          "execution_count": 11
        }
      ]
    },
    {
      "cell_type": "code",
      "metadata": {
        "id": "Wf9B7IyuVwGh"
      },
      "source": [
        "# mw_ed_names"
      ],
      "execution_count": null,
      "outputs": []
    },
    {
      "cell_type": "code",
      "metadata": {
        "id": "D6iCwiWxH3zO"
      },
      "source": [
        "new = [x for x in wf_ined_names if not x in mw_ined_names]"
      ],
      "execution_count": null,
      "outputs": []
    },
    {
      "cell_type": "code",
      "metadata": {
        "id": "NPmH_mdGJOCa"
      },
      "source": [
        "all = new + mw_ined_names"
      ],
      "execution_count": null,
      "outputs": []
    },
    {
      "cell_type": "code",
      "metadata": {
        "id": "PIcc13W6R5oB",
        "colab": {
          "base_uri": "https://localhost:8080/"
        },
        "outputId": "e2bfd7d4-c48a-4f5b-856f-cc74fc4363c0"
      },
      "source": [
        "mw_ined_names"
      ],
      "execution_count": null,
      "outputs": [
        {
          "output_type": "execute_result",
          "data": {
            "text/plain": [
              "['amanita muscaria',\n",
              " 'amanita pantherina',\n",
              " 'amanita phalloides',\n",
              " 'amanita porphyria',\n",
              " 'amanita regalis',\n",
              " 'amanita rubescens',\n",
              " 'amanita virosa',\n",
              " 'boletus satanas',\n",
              " 'clathrus ruber',\n",
              " 'coprinopsis atramentaria',\n",
              " 'cortinarius orellanus',\n",
              " 'cortinarius rubellus',\n",
              " 'cortinarius semisanguineus',\n",
              " 'galerina marginata',\n",
              " 'gyromitra esculenta',\n",
              " 'gyromitra infula',\n",
              " 'hebeloma crustuliniforme',\n",
              " 'hebeloma mesophaeum',\n",
              " 'hypholoma fasciculare',\n",
              " 'inocybe lacera',\n",
              " 'lactarius helvus',\n",
              " 'macrolepiota  rachodes',\n",
              " 'mycena pura',\n",
              " 'paxillus involutus',\n",
              " 'russula emetica',\n",
              " 'stropharia hornemannii']"
            ]
          },
          "metadata": {
            "tags": []
          },
          "execution_count": 181
        }
      ]
    }
  ]
}